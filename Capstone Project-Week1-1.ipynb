{
    "cells": [
        {
            "cell_type": "markdown",
            "metadata": {},
            "source": "# The Battle of Neighborhoods (Week 1)"
        },
        {
            "cell_type": "markdown",
            "metadata": {},
            "source": "#### By: Pierre Shi\n\n## Assignment 1 - Introduction"
        },
        {
            "cell_type": "markdown",
            "metadata": {},
            "source": "### Look for a location to setup a Japanese Restaurant in Gyeonggi\n\nGyeonggi Province (Korean) is the most populous province in South Korea. Gyeonggi-do can be translated as \"province surrounding Seoul\". A group of Japanese investors want to setup some business in this province, but they do not know where to start, so they suggest to open a Japanese restaurant first to evaluate the local business environment. \n\nThe question is where to setup such a business is the best choice. A successful startup could indicate a promising future while a failed investment may frustate the investors. Comparing the current restaurant setup, using c location data seems to be an idea. \n\nIn this project, I am going to leverage the Foursquare location data together with the Gyeonggi cities' population and other restaurant information, to find out where the best place to maximize the success chance of this new Japanese restaurant. "
        },
        {
            "cell_type": "markdown",
            "metadata": {},
            "source": "## Assignment 2 - Data"
        },
        {
            "cell_type": "markdown",
            "metadata": {},
            "source": "The Wiki Data for the Korea cities will be used to provide the most recent population and density information. Then using Foursquare data source, to extract the venues informtion is the next step. Combining this information, we can analyze the K-means clusters for the population and current restaurant setup, to find the best city to start the business. "
        }
    ],
    "metadata": {
        "kernelspec": {
            "display_name": "Python",
            "language": "python",
            "name": "conda-env-python-py"
        },
        "language_info": {
            "codemirror_mode": {
                "name": "ipython",
                "version": 3
            },
            "file_extension": ".py",
            "mimetype": "text/x-python",
            "name": "python",
            "nbconvert_exporter": "python",
            "pygments_lexer": "ipython3",
            "version": "3.6.12"
        }
    },
    "nbformat": 4,
    "nbformat_minor": 4
}