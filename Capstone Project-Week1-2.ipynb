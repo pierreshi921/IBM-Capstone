{
    "cells": [
        {
            "cell_type": "markdown",
            "metadata": {},
            "source": "# The Battle of Neighborhoods (Week 1)"
        },
        {
            "cell_type": "markdown",
            "metadata": {},
            "source": "#### By: Pierre Shi\n\n## Assignment 1 - Introduction"
        },
        {
            "cell_type": "markdown",
            "metadata": {},
            "source": "### Look for a location to setup a Japanese Restaurant in Gyeonggi\n\nGyeonggi Province (Korean) is the most populous province in South Korea. Gyeonggi-do can be translated as \"province surrounding Seoul\". A group of Japanese investors want to setup some business in this province, but they do not know where to start, so they suggest to open a Japanese restaurant first to evaluate the local business environment. \n\nThe question is where to setup such a business is the best choice. A successful startup could indicate a promising future while a failed investment may frustate the investors. Comparing the current restaurant setup, using c location data seems to be an idea. \n\nIn this project, I am going to leverage the Foursquare location data together with the Gyeonggi cities' population and other restaurant information, to find out where the best place to maximize the success chance of this new Japanese restaurant. "
        },
        {
            "cell_type": "markdown",
            "metadata": {},
            "source": "## Assignment 2 - Data"
        },
        {
            "cell_type": "markdown",
            "metadata": {},
            "source": "### Description of the data source and method\n\n1. The Wiki Data for the Korea cities will be used to provide the most recent population and density information.\n2. Then using Foursquare data source, to extract the venues informtion is the next step.\n3. Combining this information, we can analyze the K-means clusters for the population and current restaurant setup, to find the best city to start the business. "
        },
        {
            "cell_type": "code",
            "execution_count": 23,
            "metadata": {},
            "outputs": [
                {
                    "name": "stdout",
                    "output_type": "stream",
                    "text": "Collecting package metadata (current_repodata.json): done\nSolving environment: done\n\n# All requested packages already installed.\n\nRequirement already satisfied: lxml in /home/jupyterlab/conda/envs/python/lib/python3.6/site-packages (4.6.2)\nRequirement already satisfied: html5lib in /home/jupyterlab/conda/envs/python/lib/python3.6/site-packages (0.9999999)\nRequirement already satisfied: six in /home/jupyterlab/conda/envs/python/lib/python3.6/site-packages (from html5lib) (1.15.0)\nRequirement already satisfied: requests in /home/jupyterlab/conda/envs/python/lib/python3.6/site-packages (2.25.0)\nRequirement already satisfied: chardet<4,>=3.0.2 in /home/jupyterlab/conda/envs/python/lib/python3.6/site-packages (from requests) (3.0.4)\nRequirement already satisfied: urllib3<1.27,>=1.21.1 in /home/jupyterlab/conda/envs/python/lib/python3.6/site-packages (from requests) (1.25.11)\nRequirement already satisfied: certifi>=2017.4.17 in /home/jupyterlab/conda/envs/python/lib/python3.6/site-packages (from requests) (2020.12.5)\nRequirement already satisfied: idna<3,>=2.5 in /home/jupyterlab/conda/envs/python/lib/python3.6/site-packages (from requests) (2.10)\nRequirement already satisfied: beautifulsoup4 in /home/jupyterlab/conda/envs/python/lib/python3.6/site-packages (4.9.3)\nRequirement already satisfied: soupsieve>1.2; python_version >= \"3.0\" in /home/jupyterlab/conda/envs/python/lib/python3.6/site-packages (from beautifulsoup4) (2.1)\nRequirement already satisfied: tqdm in /home/jupyterlab/conda/envs/python/lib/python3.6/site-packages (4.56.0)\nRequirement already satisfied: geopy in /home/jupyterlab/conda/envs/python/lib/python3.6/site-packages (2.1.0)\nRequirement already satisfied: geographiclib<2,>=1.49 in /home/jupyterlab/conda/envs/python/lib/python3.6/site-packages (from geopy) (1.50)\n"
                }
            ],
            "source": "## Install and import related packages\n!conda install -c conda-forge folium=0.5.0 --yes\n!pip install lxml\n!pip install html5lib\n!pip install requests\n!pip install beautifulsoup4\n!pip install tqdm\n!pip install geopy\n\nimport requests # library to handle requests\nimport pandas as pd # library for data analsysis\nimport numpy as np # library to handle data in a vectorized manner\nfrom bs4 import BeautifulSoup\nfrom tqdm import tqdm\nimport seaborn as sns"
        },
        {
            "cell_type": "markdown",
            "metadata": {},
            "source": "### 2.1 Download Data From Wiki"
        },
        {
            "cell_type": "markdown",
            "metadata": {},
            "source": "We get the South Korea city information from Wiki website"
        },
        {
            "cell_type": "code",
            "execution_count": 26,
            "metadata": {},
            "outputs": [
                {
                    "data": {
                        "text/html": "<div>\n<style scoped>\n    .dataframe tbody tr th:only-of-type {\n        vertical-align: middle;\n    }\n\n    .dataframe tbody tr th {\n        vertical-align: top;\n    }\n\n    .dataframe thead th {\n        text-align: right;\n    }\n</style>\n<table border=\"1\" class=\"dataframe\">\n  <thead>\n    <tr style=\"text-align: right;\">\n      <th></th>\n      <th>City</th>\n      <th>Hangul</th>\n      <th>Hanja</th>\n      <th>Province</th>\n      <th>Population(2017)</th>\n      <th>Area</th>\n      <th>Density</th>\n      <th>Founded</th>\n    </tr>\n  </thead>\n  <tbody>\n    <tr>\n      <th>0</th>\n      <td>Andong</td>\n      <td>\uc548\ub3d9\uc2dc</td>\n      <td>\u5b89\u6771\u5e02</td>\n      <td>North Gyeongsang</td>\n      <td>168226</td>\n      <td>1521.26</td>\n      <td>110.6</td>\n      <td>1963-01-01</td>\n    </tr>\n    <tr>\n      <th>1</th>\n      <td>Ansan</td>\n      <td>\uc548\uc0b0\uc2dc</td>\n      <td>\u5b89\u5c71\u5e02</td>\n      <td>Gyeonggi</td>\n      <td>689326</td>\n      <td>149.06</td>\n      <td>4624.5</td>\n      <td>1986-01-01</td>\n    </tr>\n    <tr>\n      <th>2</th>\n      <td>Anseong</td>\n      <td>\uc548\uc131\uc2dc</td>\n      <td>\u5b89\u57ce\u5e02</td>\n      <td>Gyeonggi</td>\n      <td>182784</td>\n      <td>553.47</td>\n      <td>330.3</td>\n      <td>1998-04-01</td>\n    </tr>\n    <tr>\n      <th>3</th>\n      <td>Anyang</td>\n      <td>\uc548\uc591\uc2dc</td>\n      <td>\u5b89\u990a\u5e02</td>\n      <td>Gyeonggi</td>\n      <td>598392</td>\n      <td>58.46</td>\n      <td>10235.9</td>\n      <td>1973-07-01</td>\n    </tr>\n    <tr>\n      <th>4</th>\n      <td>Asan</td>\n      <td>\uc544\uc0b0\uc2dc</td>\n      <td>\u7259\u5c71\u5e02</td>\n      <td>South Chungcheong</td>\n      <td>303043</td>\n      <td>542.15</td>\n      <td>559.0</td>\n      <td>1986-01-01</td>\n    </tr>\n  </tbody>\n</table>\n</div>",
                        "text/plain": "      City Hangul Hanja           Province  Population(2017)     Area  \\\n0   Andong    \uc548\ub3d9\uc2dc   \u5b89\u6771\u5e02   North Gyeongsang            168226  1521.26   \n1    Ansan    \uc548\uc0b0\uc2dc   \u5b89\u5c71\u5e02           Gyeonggi            689326   149.06   \n2  Anseong    \uc548\uc131\uc2dc   \u5b89\u57ce\u5e02           Gyeonggi            182784   553.47   \n3   Anyang    \uc548\uc591\uc2dc   \u5b89\u990a\u5e02           Gyeonggi            598392    58.46   \n4     Asan    \uc544\uc0b0\uc2dc   \u7259\u5c71\u5e02  South Chungcheong            303043   542.15   \n\n   Density     Founded  \n0    110.6  1963-01-01  \n1   4624.5  1986-01-01  \n2    330.3  1998-04-01  \n3  10235.9  1973-07-01  \n4    559.0  1986-01-01  "
                    },
                    "execution_count": 26,
                    "metadata": {},
                    "output_type": "execute_result"
                }
            ],
            "source": "df_K = pd.read_html(\"https://en.wikipedia.org/wiki/List_of_cities_in_South_Korea\")[5]\ndf_K.head()"
        },
        {
            "cell_type": "markdown",
            "metadata": {},
            "source": "### 2.2 Data Cleanup"
        },
        {
            "cell_type": "code",
            "execution_count": 27,
            "metadata": {},
            "outputs": [
                {
                    "data": {
                        "text/plain": "City           object\nProvince       object\nPopulation    float64\nArea          float64\nDensity       float64\ndtype: object"
                    },
                    "execution_count": 27,
                    "metadata": {},
                    "output_type": "execute_result"
                }
            ],
            "source": "# Dropping not-needed columns, renaming columns, and replacing empty values\ndf_K.drop(columns=[\"Hangul\", \"Hanja\", \"Founded\"], inplace = True)\ndf_K.columns = [\"City\", \"Province\", \"Population\", \"Area\", \"Density\"]\ndf_K.replace(\"*\", 0, inplace=True)\n\n# Correcting data types\ndf_K = df_K.astype({\"Population\":\"float64\", \"Density\":\"float64\"})\ndf_K.dtypes"
        },
        {
            "cell_type": "code",
            "execution_count": 28,
            "metadata": {},
            "outputs": [
                {
                    "data": {
                        "text/html": "<div>\n<style scoped>\n    .dataframe tbody tr th:only-of-type {\n        vertical-align: middle;\n    }\n\n    .dataframe tbody tr th {\n        vertical-align: top;\n    }\n\n    .dataframe thead th {\n        text-align: right;\n    }\n</style>\n<table border=\"1\" class=\"dataframe\">\n  <thead>\n    <tr style=\"text-align: right;\">\n      <th></th>\n      <th>City</th>\n      <th>Province</th>\n      <th>Population</th>\n      <th>Area</th>\n      <th>Density</th>\n    </tr>\n  </thead>\n  <tbody>\n    <tr>\n      <th>0</th>\n      <td>Andong</td>\n      <td>North Gyeongsang</td>\n      <td>168226.0</td>\n      <td>1521.26</td>\n      <td>110.6</td>\n    </tr>\n    <tr>\n      <th>1</th>\n      <td>Ansan</td>\n      <td>Gyeonggi</td>\n      <td>689326.0</td>\n      <td>149.06</td>\n      <td>4624.5</td>\n    </tr>\n    <tr>\n      <th>2</th>\n      <td>Anseong</td>\n      <td>Gyeonggi</td>\n      <td>182784.0</td>\n      <td>553.47</td>\n      <td>330.3</td>\n    </tr>\n    <tr>\n      <th>3</th>\n      <td>Anyang</td>\n      <td>Gyeonggi</td>\n      <td>598392.0</td>\n      <td>58.46</td>\n      <td>10235.9</td>\n    </tr>\n    <tr>\n      <th>4</th>\n      <td>Asan</td>\n      <td>South Chungcheong</td>\n      <td>303043.0</td>\n      <td>542.15</td>\n      <td>559.0</td>\n    </tr>\n    <tr>\n      <th>...</th>\n      <td>...</td>\n      <td>...</td>\n      <td>...</td>\n      <td>...</td>\n      <td>...</td>\n    </tr>\n    <tr>\n      <th>80</th>\n      <td>Yeoju</td>\n      <td>Gyeonggi</td>\n      <td>111558.0</td>\n      <td>608.64</td>\n      <td>183.3</td>\n    </tr>\n    <tr>\n      <th>81</th>\n      <td>Yeongcheon</td>\n      <td>North Gyeongsang</td>\n      <td>100384.0</td>\n      <td>920.29</td>\n      <td>109.1</td>\n    </tr>\n    <tr>\n      <th>82</th>\n      <td>Yeongju</td>\n      <td>North Gyeongsang</td>\n      <td>109281.0</td>\n      <td>669.05</td>\n      <td>163.3</td>\n    </tr>\n    <tr>\n      <th>83</th>\n      <td>Yeosu</td>\n      <td>South Jeolla</td>\n      <td>288818.0</td>\n      <td>501.27</td>\n      <td>576.2</td>\n    </tr>\n    <tr>\n      <th>84</th>\n      <td>Yongin</td>\n      <td>Gyeonggi</td>\n      <td>991622.0</td>\n      <td>591.36</td>\n      <td>1676.8</td>\n    </tr>\n  </tbody>\n</table>\n<p>85 rows \u00d7 5 columns</p>\n</div>",
                        "text/plain": "          City           Province  Population     Area  Density\n0       Andong   North Gyeongsang    168226.0  1521.26    110.6\n1        Ansan           Gyeonggi    689326.0   149.06   4624.5\n2      Anseong           Gyeonggi    182784.0   553.47    330.3\n3       Anyang           Gyeonggi    598392.0    58.46  10235.9\n4         Asan  South Chungcheong    303043.0   542.15    559.0\n..         ...                ...         ...      ...      ...\n80       Yeoju           Gyeonggi    111558.0   608.64    183.3\n81  Yeongcheon   North Gyeongsang    100384.0   920.29    109.1\n82     Yeongju   North Gyeongsang    109281.0   669.05    163.3\n83       Yeosu       South Jeolla    288818.0   501.27    576.2\n84      Yongin           Gyeonggi    991622.0   591.36   1676.8\n\n[85 rows x 5 columns]"
                    },
                    "execution_count": 28,
                    "metadata": {},
                    "output_type": "execute_result"
                }
            ],
            "source": "df_K"
        },
        {
            "cell_type": "markdown",
            "metadata": {},
            "source": "Here I will use the geolocator function to get the Lat and Long and add to our dataframe"
        },
        {
            "cell_type": "code",
            "execution_count": 29,
            "metadata": {},
            "outputs": [],
            "source": "geolocator = Nominatim(user_agent=\"Korea_Explorer1\")"
        },
        {
            "cell_type": "code",
            "execution_count": 30,
            "metadata": {},
            "outputs": [
                {
                    "name": "stderr",
                    "output_type": "stream",
                    "text": "100%|\u2588\u2588\u2588\u2588\u2588\u2588\u2588\u2588\u2588\u2588| 85/85 [01:24<00:00,  1.01it/s]\n"
                }
            ],
            "source": "# Getting coordinates of each city\ntqdm.pandas()\ngeocode = RateLimiter(geolocator.geocode, min_delay_seconds=1)\ncoords = (df_K[\"City\"]).progress_apply(geocode)\n# Adding two new empty columns to dataframe\ndf_K[\"Latitude\"] = np.nan\ndf_K[\"Longitude\"] = np.nan\n# Populating the Latitude and Longitude columns with data from coords\nfor index in df_K.index:\n    df_K.at[index, 'Latitude'] = coords[index].latitude\n    df_K.at[index, 'Longitude'] = coords[index].longitude"
        },
        {
            "cell_type": "markdown",
            "metadata": {},
            "source": "Because of the data in Gyeonggi is needed, I will just extract that part of the data and remove the unneeded ones"
        },
        {
            "cell_type": "code",
            "execution_count": 31,
            "metadata": {},
            "outputs": [
                {
                    "data": {
                        "text/html": "<div>\n<style scoped>\n    .dataframe tbody tr th:only-of-type {\n        vertical-align: middle;\n    }\n\n    .dataframe tbody tr th {\n        vertical-align: top;\n    }\n\n    .dataframe thead th {\n        text-align: right;\n    }\n</style>\n<table border=\"1\" class=\"dataframe\">\n  <thead>\n    <tr style=\"text-align: right;\">\n      <th></th>\n      <th>City</th>\n      <th>Province</th>\n      <th>Population</th>\n      <th>Area</th>\n      <th>Density</th>\n      <th>Latitude</th>\n      <th>Longitude</th>\n    </tr>\n  </thead>\n  <tbody>\n    <tr>\n      <th>1</th>\n      <td>Ansan</td>\n      <td>Gyeonggi</td>\n      <td>689326.0</td>\n      <td>149.06</td>\n      <td>4624.5</td>\n      <td>43.690843</td>\n      <td>0.773523</td>\n    </tr>\n    <tr>\n      <th>2</th>\n      <td>Anseong</td>\n      <td>Gyeonggi</td>\n      <td>182784.0</td>\n      <td>553.47</td>\n      <td>330.3</td>\n      <td>37.007773</td>\n      <td>127.279971</td>\n    </tr>\n    <tr>\n      <th>3</th>\n      <td>Anyang</td>\n      <td>Gyeonggi</td>\n      <td>598392.0</td>\n      <td>58.46</td>\n      <td>10235.9</td>\n      <td>36.102355</td>\n      <td>114.336330</td>\n    </tr>\n    <tr>\n      <th>6</th>\n      <td>Bucheon</td>\n      <td>Gyeonggi</td>\n      <td>851245.0</td>\n      <td>53.40</td>\n      <td>15940.9</td>\n      <td>37.501442</td>\n      <td>126.766014</td>\n    </tr>\n    <tr>\n      <th>16</th>\n      <td>Dongducheon</td>\n      <td>Gyeonggi</td>\n      <td>98062.0</td>\n      <td>95.66</td>\n      <td>1025.1</td>\n      <td>37.903086</td>\n      <td>127.060518</td>\n    </tr>\n  </tbody>\n</table>\n</div>",
                        "text/plain": "           City  Province  Population    Area  Density   Latitude   Longitude\n1         Ansan  Gyeonggi    689326.0  149.06   4624.5  43.690843    0.773523\n2       Anseong  Gyeonggi    182784.0  553.47    330.3  37.007773  127.279971\n3        Anyang  Gyeonggi    598392.0   58.46  10235.9  36.102355  114.336330\n6       Bucheon  Gyeonggi    851245.0   53.40  15940.9  37.501442  126.766014\n16  Dongducheon  Gyeonggi     98062.0   95.66   1025.1  37.903086  127.060518"
                    },
                    "execution_count": 31,
                    "metadata": {},
                    "output_type": "execute_result"
                }
            ],
            "source": "df_Gyeonggi = df_K.drop(df_K[df_K.Province != 'Gyeonggi'].index)\ndf_Gyeonggi.head()"
        },
        {
            "cell_type": "markdown",
            "metadata": {},
            "source": "### 2.3 Get Data from Foursquare"
        },
        {
            "cell_type": "markdown",
            "metadata": {},
            "source": "Use my credential to get the data"
        },
        {
            "cell_type": "code",
            "execution_count": 32,
            "metadata": {},
            "outputs": [],
            "source": "# use the following user ID and client Secret\nCLIENT_ID = 'ZIO5LTYH2NFRAFS0EDV20VNBTXJZIMRLYC1AR0QQKOTLQUHF'\nCLIENT_SECRET = 'SVRUJKAHEOEUHGIKDIZS5VHQNN5N2PVNOQGVKZJ3P5PYDDTF'\nVERSION = '20180604'\nLIMIT = 100"
        },
        {
            "cell_type": "code",
            "execution_count": 34,
            "metadata": {},
            "outputs": [],
            "source": "from math import sqrt, pi\ndf_Gyeonggi[\"Search Radius\"] = df_Gyeonggi[\"Area\"].apply(lambda x: round(sqrt(x/pi)*1000))"
        },
        {
            "cell_type": "code",
            "execution_count": 35,
            "metadata": {},
            "outputs": [
                {
                    "name": "stdout",
                    "output_type": "stream",
                    "text": "Ansan\nAnseong\nAnyang\nBucheon\nDongducheon\nGimpo\nGoyang\nGunpo\nGuri\nGwacheon\nGwangju\nGwangmyeong\nHanam\nHwaseong\nIcheon\nNamyangju\nOsan\nPaju\nPocheon\nPyeongtaek\nSeongnam\nSiheung\nSuwon\nUijeongbu\nUiwang\nYangju\nYeoju\nYongin\n"
                }
            ],
            "source": "def getNearbyVenues(names, latitudes, longitudes, radius):\n    \n    venues_list=[]\n    for name, lat, lng, radius in zip(names, latitudes, longitudes, radius):\n        print(name)\n            \n        # create the API request URL\n        url = 'https://api.foursquare.com/v2/venues/explore?&client_id={}&client_secret={}&v={}&ll={},{}&radius={}&limit={}'.format(\n            CLIENT_ID, \n            CLIENT_SECRET, \n            VERSION, \n            lat, \n            lng, \n            radius, \n            LIMIT)\n            \n        # make the GET request\n        results = requests.get(url).json()[\"response\"]['groups'][0]['items']\n        \n        # return only relevant information for each nearby venue\n        venues_list.append([(\n            name, \n            lat, \n            lng, \n            v['venue']['name'], \n            v['venue']['location']['lat'], \n            v['venue']['location']['lng'],  \n            v['venue']['categories'][0]['name']) for v in results])\n\n    nearby_venues = pd.DataFrame([item for venue_list in venues_list for item in venue_list])\n    nearby_venues.columns = ['City', \n                  'City Latitude', \n                  'City Longitude', \n                  'Venue', \n                  'Venue Latitude', \n                  'Venue Longitude', \n                  'Venue Category']\n    \n    return(nearby_venues)\n\n# Calling the user-defined function, and saving the results into a variable\ndf_Gyeonggi_venues = getNearbyVenues(names=df_Gyeonggi['City'],latitudes=df_Gyeonggi['Latitude'],longitudes=df_Gyeonggi['Longitude'],radius=df_Gyeonggi['Search Radius'])"
        },
        {
            "cell_type": "code",
            "execution_count": 36,
            "metadata": {},
            "outputs": [
                {
                    "name": "stdout",
                    "output_type": "stream",
                    "text": "(2047, 7)\n"
                },
                {
                    "data": {
                        "text/html": "<div>\n<style scoped>\n    .dataframe tbody tr th:only-of-type {\n        vertical-align: middle;\n    }\n\n    .dataframe tbody tr th {\n        vertical-align: top;\n    }\n\n    .dataframe thead th {\n        text-align: right;\n    }\n</style>\n<table border=\"1\" class=\"dataframe\">\n  <thead>\n    <tr style=\"text-align: right;\">\n      <th></th>\n      <th>City</th>\n      <th>City Latitude</th>\n      <th>City Longitude</th>\n      <th>Venue</th>\n      <th>Venue Latitude</th>\n      <th>Venue Longitude</th>\n      <th>Venue Category</th>\n    </tr>\n  </thead>\n  <tbody>\n    <tr>\n      <th>0</th>\n      <td>Ansan</td>\n      <td>43.690843</td>\n      <td>0.773523</td>\n      <td>Aubiet Terrain De Foot</td>\n      <td>43.657431</td>\n      <td>0.777255</td>\n      <td>Soccer Field</td>\n    </tr>\n    <tr>\n      <th>1</th>\n      <td>Ansan</td>\n      <td>43.690843</td>\n      <td>0.773523</td>\n      <td>Gare SNCF d'Aubiet</td>\n      <td>43.650207</td>\n      <td>0.789071</td>\n      <td>Train Station</td>\n    </tr>\n    <tr>\n      <th>2</th>\n      <td>Ansan</td>\n      <td>43.690843</td>\n      <td>0.773523</td>\n      <td>Un jour inoubliable photographe Gers</td>\n      <td>43.747599</td>\n      <td>0.744879</td>\n      <td>Photography Studio</td>\n    </tr>\n    <tr>\n      <th>3</th>\n      <td>Ansan</td>\n      <td>43.690843</td>\n      <td>0.773523</td>\n      <td>Traiteur Gers (Gilbert Saint-Loubert)</td>\n      <td>43.747506</td>\n      <td>0.742564</td>\n      <td>Food Service</td>\n    </tr>\n    <tr>\n      <th>4</th>\n      <td>Anseong</td>\n      <td>37.007773</td>\n      <td>127.279971</td>\n      <td>\uc7a5\ud130\uad6d\ubc25</td>\n      <td>36.999503</td>\n      <td>127.268721</td>\n      <td>Korean Restaurant</td>\n    </tr>\n  </tbody>\n</table>\n</div>",
                        "text/plain": "      City  City Latitude  City Longitude  \\\n0    Ansan      43.690843        0.773523   \n1    Ansan      43.690843        0.773523   \n2    Ansan      43.690843        0.773523   \n3    Ansan      43.690843        0.773523   \n4  Anseong      37.007773      127.279971   \n\n                                   Venue  Venue Latitude  Venue Longitude  \\\n0                 Aubiet Terrain De Foot       43.657431         0.777255   \n1                     Gare SNCF d'Aubiet       43.650207         0.789071   \n2   Un jour inoubliable photographe Gers       43.747599         0.744879   \n3  Traiteur Gers (Gilbert Saint-Loubert)       43.747506         0.742564   \n4                                   \uc7a5\ud130\uad6d\ubc25       36.999503       127.268721   \n\n       Venue Category  \n0        Soccer Field  \n1       Train Station  \n2  Photography Studio  \n3        Food Service  \n4   Korean Restaurant  "
                    },
                    "execution_count": 36,
                    "metadata": {},
                    "output_type": "execute_result"
                }
            ],
            "source": "print(df_Gyeonggi_venues.shape)\ndf_Gyeonggi_venues.head()"
        },
        {
            "cell_type": "code",
            "execution_count": 37,
            "metadata": {},
            "outputs": [
                {
                    "name": "stdout",
                    "output_type": "stream",
                    "text": "Number of unique venue categories in Gyeonggi of Korea:187\n"
                }
            ],
            "source": "print(\"Number of unique venue categories in Gyeonggi of Korea:{}\".format(len(df_Gyeonggi_venues[\"Venue Category\"].unique())))"
        },
        {
            "cell_type": "markdown",
            "metadata": {},
            "source": "Now all the data neeeded is available for further analysis"
        }
    ],
    "metadata": {
        "kernelspec": {
            "display_name": "Python",
            "language": "python",
            "name": "conda-env-python-py"
        },
        "language_info": {
            "codemirror_mode": {
                "name": "ipython",
                "version": 3
            },
            "file_extension": ".py",
            "mimetype": "text/x-python",
            "name": "python",
            "nbconvert_exporter": "python",
            "pygments_lexer": "ipython3",
            "version": "3.6.12"
        }
    },
    "nbformat": 4,
    "nbformat_minor": 4
}